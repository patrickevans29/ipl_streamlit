{
 "cells": [
  {
   "cell_type": "code",
   "execution_count": 1,
   "metadata": {},
   "outputs": [],
   "source": [
    "import pandas as pd"
   ]
  },
  {
   "cell_type": "code",
   "execution_count": 2,
   "metadata": {},
   "outputs": [],
   "source": [
    "df = pd.read_csv('weighted_average_data.csv')"
   ]
  },
  {
   "cell_type": "code",
   "execution_count": 6,
   "metadata": {},
   "outputs": [
    {
     "data": {
      "text/html": [
       "<div>\n",
       "<style scoped>\n",
       "    .dataframe tbody tr th:only-of-type {\n",
       "        vertical-align: middle;\n",
       "    }\n",
       "\n",
       "    .dataframe tbody tr th {\n",
       "        vertical-align: top;\n",
       "    }\n",
       "\n",
       "    .dataframe thead th {\n",
       "        text-align: right;\n",
       "    }\n",
       "</style>\n",
       "<table border=\"1\" class=\"dataframe\">\n",
       "  <thead>\n",
       "    <tr style=\"text-align: right;\">\n",
       "      <th></th>\n",
       "      <th>Unnamed: 0</th>\n",
       "      <th>team</th>\n",
       "      <th>ID</th>\n",
       "      <th>Avg_Weighted_Score</th>\n",
       "      <th>batting_average</th>\n",
       "      <th>batting_strike_rate</th>\n",
       "      <th>bowling_average</th>\n",
       "      <th>bowling_economy_rate</th>\n",
       "      <th>bowling_strike_rate</th>\n",
       "      <th>win_ratio</th>\n",
       "    </tr>\n",
       "  </thead>\n",
       "  <tbody>\n",
       "    <tr>\n",
       "      <th>1895</th>\n",
       "      <td>1895</td>\n",
       "      <td>sunrisers hyderabad</td>\n",
       "      <td>1304096</td>\n",
       "      <td>18.736334</td>\n",
       "      <td>24.249890</td>\n",
       "      <td>128.064474</td>\n",
       "      <td>30.608182</td>\n",
       "      <td>8.590000</td>\n",
       "      <td>19.814545</td>\n",
       "      <td>0.430909</td>\n",
       "    </tr>\n",
       "    <tr>\n",
       "      <th>1896</th>\n",
       "      <td>1896</td>\n",
       "      <td>sunrisers hyderabad</td>\n",
       "      <td>1304100</td>\n",
       "      <td>18.920357</td>\n",
       "      <td>25.442376</td>\n",
       "      <td>125.230056</td>\n",
       "      <td>26.655455</td>\n",
       "      <td>8.417273</td>\n",
       "      <td>18.427273</td>\n",
       "      <td>0.446364</td>\n",
       "    </tr>\n",
       "    <tr>\n",
       "      <th>1897</th>\n",
       "      <td>1897</td>\n",
       "      <td>sunrisers hyderabad</td>\n",
       "      <td>1304107</td>\n",
       "      <td>19.207178</td>\n",
       "      <td>24.975009</td>\n",
       "      <td>128.236838</td>\n",
       "      <td>23.960909</td>\n",
       "      <td>8.147273</td>\n",
       "      <td>17.447273</td>\n",
       "      <td>0.481818</td>\n",
       "    </tr>\n",
       "    <tr>\n",
       "      <th>1898</th>\n",
       "      <td>1898</td>\n",
       "      <td>sunrisers hyderabad</td>\n",
       "      <td>1304111</td>\n",
       "      <td>19.317823</td>\n",
       "      <td>24.738912</td>\n",
       "      <td>122.628079</td>\n",
       "      <td>25.739091</td>\n",
       "      <td>7.309091</td>\n",
       "      <td>18.417273</td>\n",
       "      <td>0.450909</td>\n",
       "    </tr>\n",
       "    <tr>\n",
       "      <th>1899</th>\n",
       "      <td>1899</td>\n",
       "      <td>sunrisers hyderabad</td>\n",
       "      <td>1304116</td>\n",
       "      <td>17.616488</td>\n",
       "      <td>23.872813</td>\n",
       "      <td>125.171430</td>\n",
       "      <td>28.971818</td>\n",
       "      <td>7.355455</td>\n",
       "      <td>20.248182</td>\n",
       "      <td>0.410000</td>\n",
       "    </tr>\n",
       "  </tbody>\n",
       "</table>\n",
       "</div>"
      ],
      "text/plain": [
       "      Unnamed: 0                 team       ID  Avg_Weighted_Score  \\\n",
       "1895        1895  sunrisers hyderabad  1304096           18.736334   \n",
       "1896        1896  sunrisers hyderabad  1304100           18.920357   \n",
       "1897        1897  sunrisers hyderabad  1304107           19.207178   \n",
       "1898        1898  sunrisers hyderabad  1304111           19.317823   \n",
       "1899        1899  sunrisers hyderabad  1304116           17.616488   \n",
       "\n",
       "      batting_average  batting_strike_rate  bowling_average  \\\n",
       "1895        24.249890           128.064474        30.608182   \n",
       "1896        25.442376           125.230056        26.655455   \n",
       "1897        24.975009           128.236838        23.960909   \n",
       "1898        24.738912           122.628079        25.739091   \n",
       "1899        23.872813           125.171430        28.971818   \n",
       "\n",
       "      bowling_economy_rate  bowling_strike_rate  win_ratio  \n",
       "1895              8.590000            19.814545   0.430909  \n",
       "1896              8.417273            18.427273   0.446364  \n",
       "1897              8.147273            17.447273   0.481818  \n",
       "1898              7.309091            18.417273   0.450909  \n",
       "1899              7.355455            20.248182   0.410000  "
      ]
     },
     "execution_count": 6,
     "metadata": {},
     "output_type": "execute_result"
    }
   ],
   "source": [
    "df.tail()"
   ]
  },
  {
   "cell_type": "code",
   "execution_count": 4,
   "metadata": {},
   "outputs": [
    {
     "data": {
      "text/plain": [
       "array(['chennai super kings', 'deccan chargers', 'delhi capitals',\n",
       "       'gujarat lions', 'gujarat titans', 'kochi tuskers kerala',\n",
       "       'kolkata knight riders', 'lucknow super giants', 'mumbai indians',\n",
       "       'pune warriors', 'punjab kings', 'rajasthan royals',\n",
       "       'rising pune supergiant', 'royal challengers bangalore',\n",
       "       'sunrisers hyderabad'], dtype=object)"
      ]
     },
     "execution_count": 4,
     "metadata": {},
     "output_type": "execute_result"
    }
   ],
   "source": [
    "df.team.unique()"
   ]
  },
  {
   "cell_type": "code",
   "execution_count": 5,
   "metadata": {},
   "outputs": [
    {
     "data": {
      "text/plain": [
       "(1900, 10)"
      ]
     },
     "execution_count": 5,
     "metadata": {},
     "output_type": "execute_result"
    }
   ],
   "source": [
    "df.shape"
   ]
  },
  {
   "cell_type": "code",
   "execution_count": 7,
   "metadata": {},
   "outputs": [],
   "source": [
    "grouped_df = df.groupby('team').mean()"
   ]
  },
  {
   "cell_type": "code",
   "execution_count": 48,
   "metadata": {},
   "outputs": [
    {
     "data": {
      "text/html": [
       "<div>\n",
       "<style scoped>\n",
       "    .dataframe tbody tr th:only-of-type {\n",
       "        vertical-align: middle;\n",
       "    }\n",
       "\n",
       "    .dataframe tbody tr th {\n",
       "        vertical-align: top;\n",
       "    }\n",
       "\n",
       "    .dataframe thead th {\n",
       "        text-align: right;\n",
       "    }\n",
       "</style>\n",
       "<table border=\"1\" class=\"dataframe\">\n",
       "  <thead>\n",
       "    <tr style=\"text-align: right;\">\n",
       "      <th></th>\n",
       "      <th>Unnamed: 0</th>\n",
       "      <th>ID</th>\n",
       "      <th>Avg_Weighted_Score</th>\n",
       "      <th>batting_average</th>\n",
       "      <th>batting_strike_rate</th>\n",
       "      <th>bowling_average</th>\n",
       "      <th>bowling_economy_rate</th>\n",
       "      <th>bowling_strike_rate</th>\n",
       "      <th>win_ratio</th>\n",
       "    </tr>\n",
       "    <tr>\n",
       "      <th>team</th>\n",
       "      <th></th>\n",
       "      <th></th>\n",
       "      <th></th>\n",
       "      <th></th>\n",
       "      <th></th>\n",
       "      <th></th>\n",
       "      <th></th>\n",
       "      <th></th>\n",
       "      <th></th>\n",
       "    </tr>\n",
       "  </thead>\n",
       "  <tbody>\n",
       "    <tr>\n",
       "      <th>chennai super kings</th>\n",
       "      <td>103.5</td>\n",
       "      <td>7.962737e+05</td>\n",
       "      <td>20.532736</td>\n",
       "      <td>27.458362</td>\n",
       "      <td>126.841765</td>\n",
       "      <td>19.359043</td>\n",
       "      <td>6.005997</td>\n",
       "      <td>14.749406</td>\n",
       "      <td>0.554156</td>\n",
       "    </tr>\n",
       "    <tr>\n",
       "      <th>deccan chargers</th>\n",
       "      <td>245.0</td>\n",
       "      <td>4.390420e+05</td>\n",
       "      <td>18.520011</td>\n",
       "      <td>22.674650</td>\n",
       "      <td>117.453135</td>\n",
       "      <td>24.555309</td>\n",
       "      <td>6.581430</td>\n",
       "      <td>17.636752</td>\n",
       "      <td>0.426400</td>\n",
       "    </tr>\n",
       "    <tr>\n",
       "      <th>delhi capitals</th>\n",
       "      <td>394.5</td>\n",
       "      <td>8.370276e+05</td>\n",
       "      <td>19.732042</td>\n",
       "      <td>25.216850</td>\n",
       "      <td>125.564505</td>\n",
       "      <td>20.626859</td>\n",
       "      <td>6.414959</td>\n",
       "      <td>14.894383</td>\n",
       "      <td>0.485767</td>\n",
       "    </tr>\n",
       "    <tr>\n",
       "      <th>gujarat lions</th>\n",
       "      <td>521.5</td>\n",
       "      <td>1.028401e+06</td>\n",
       "      <td>19.732017</td>\n",
       "      <td>24.719435</td>\n",
       "      <td>126.161708</td>\n",
       "      <td>28.281758</td>\n",
       "      <td>6.176364</td>\n",
       "      <td>20.412970</td>\n",
       "      <td>0.485667</td>\n",
       "    </tr>\n",
       "    <tr>\n",
       "      <th>gujarat titans</th>\n",
       "      <td>544.5</td>\n",
       "      <td>1.305097e+06</td>\n",
       "      <td>17.664735</td>\n",
       "      <td>27.820714</td>\n",
       "      <td>130.157828</td>\n",
       "      <td>17.862102</td>\n",
       "      <td>5.169205</td>\n",
       "      <td>12.990682</td>\n",
       "      <td>0.592045</td>\n",
       "    </tr>\n",
       "  </tbody>\n",
       "</table>\n",
       "</div>"
      ],
      "text/plain": [
       "                     Unnamed: 0            ID  Avg_Weighted_Score  \\\n",
       "team                                                                \n",
       "chennai super kings       103.5  7.962737e+05           20.532736   \n",
       "deccan chargers           245.0  4.390420e+05           18.520011   \n",
       "delhi capitals            394.5  8.370276e+05           19.732042   \n",
       "gujarat lions             521.5  1.028401e+06           19.732017   \n",
       "gujarat titans            544.5  1.305097e+06           17.664735   \n",
       "\n",
       "                     batting_average  batting_strike_rate  bowling_average  \\\n",
       "team                                                                         \n",
       "chennai super kings        27.458362           126.841765        19.359043   \n",
       "deccan chargers            22.674650           117.453135        24.555309   \n",
       "delhi capitals             25.216850           125.564505        20.626859   \n",
       "gujarat lions              24.719435           126.161708        28.281758   \n",
       "gujarat titans             27.820714           130.157828        17.862102   \n",
       "\n",
       "                     bowling_economy_rate  bowling_strike_rate  win_ratio  \n",
       "team                                                                       \n",
       "chennai super kings              6.005997            14.749406   0.554156  \n",
       "deccan chargers                  6.581430            17.636752   0.426400  \n",
       "delhi capitals                   6.414959            14.894383   0.485767  \n",
       "gujarat lions                    6.176364            20.412970   0.485667  \n",
       "gujarat titans                   5.169205            12.990682   0.592045  "
      ]
     },
     "execution_count": 48,
     "metadata": {},
     "output_type": "execute_result"
    }
   ],
   "source": [
    "grouped_df.head()"
   ]
  },
  {
   "cell_type": "code",
   "execution_count": 49,
   "metadata": {},
   "outputs": [],
   "source": [
    "grouped_df['team_name'] = grouped_df.index"
   ]
  },
  {
   "cell_type": "code",
   "execution_count": 50,
   "metadata": {},
   "outputs": [
    {
     "data": {
      "text/html": [
       "<div>\n",
       "<style scoped>\n",
       "    .dataframe tbody tr th:only-of-type {\n",
       "        vertical-align: middle;\n",
       "    }\n",
       "\n",
       "    .dataframe tbody tr th {\n",
       "        vertical-align: top;\n",
       "    }\n",
       "\n",
       "    .dataframe thead th {\n",
       "        text-align: right;\n",
       "    }\n",
       "</style>\n",
       "<table border=\"1\" class=\"dataframe\">\n",
       "  <thead>\n",
       "    <tr style=\"text-align: right;\">\n",
       "      <th></th>\n",
       "      <th>Unnamed: 0</th>\n",
       "      <th>ID</th>\n",
       "      <th>Avg_Weighted_Score</th>\n",
       "      <th>batting_average</th>\n",
       "      <th>batting_strike_rate</th>\n",
       "      <th>bowling_average</th>\n",
       "      <th>bowling_economy_rate</th>\n",
       "      <th>bowling_strike_rate</th>\n",
       "      <th>win_ratio</th>\n",
       "      <th>team_name</th>\n",
       "    </tr>\n",
       "    <tr>\n",
       "      <th>team</th>\n",
       "      <th></th>\n",
       "      <th></th>\n",
       "      <th></th>\n",
       "      <th></th>\n",
       "      <th></th>\n",
       "      <th></th>\n",
       "      <th></th>\n",
       "      <th></th>\n",
       "      <th></th>\n",
       "      <th></th>\n",
       "    </tr>\n",
       "  </thead>\n",
       "  <tbody>\n",
       "    <tr>\n",
       "      <th>chennai super kings</th>\n",
       "      <td>103.5</td>\n",
       "      <td>7.962737e+05</td>\n",
       "      <td>20.532736</td>\n",
       "      <td>27.458362</td>\n",
       "      <td>126.841765</td>\n",
       "      <td>19.359043</td>\n",
       "      <td>6.005997</td>\n",
       "      <td>14.749406</td>\n",
       "      <td>0.554156</td>\n",
       "      <td>chennai super kings</td>\n",
       "    </tr>\n",
       "    <tr>\n",
       "      <th>deccan chargers</th>\n",
       "      <td>245.0</td>\n",
       "      <td>4.390420e+05</td>\n",
       "      <td>18.520011</td>\n",
       "      <td>22.674650</td>\n",
       "      <td>117.453135</td>\n",
       "      <td>24.555309</td>\n",
       "      <td>6.581430</td>\n",
       "      <td>17.636752</td>\n",
       "      <td>0.426400</td>\n",
       "      <td>deccan chargers</td>\n",
       "    </tr>\n",
       "    <tr>\n",
       "      <th>delhi capitals</th>\n",
       "      <td>394.5</td>\n",
       "      <td>8.370276e+05</td>\n",
       "      <td>19.732042</td>\n",
       "      <td>25.216850</td>\n",
       "      <td>125.564505</td>\n",
       "      <td>20.626859</td>\n",
       "      <td>6.414959</td>\n",
       "      <td>14.894383</td>\n",
       "      <td>0.485767</td>\n",
       "      <td>delhi capitals</td>\n",
       "    </tr>\n",
       "    <tr>\n",
       "      <th>gujarat lions</th>\n",
       "      <td>521.5</td>\n",
       "      <td>1.028401e+06</td>\n",
       "      <td>19.732017</td>\n",
       "      <td>24.719435</td>\n",
       "      <td>126.161708</td>\n",
       "      <td>28.281758</td>\n",
       "      <td>6.176364</td>\n",
       "      <td>20.412970</td>\n",
       "      <td>0.485667</td>\n",
       "      <td>gujarat lions</td>\n",
       "    </tr>\n",
       "    <tr>\n",
       "      <th>gujarat titans</th>\n",
       "      <td>544.5</td>\n",
       "      <td>1.305097e+06</td>\n",
       "      <td>17.664735</td>\n",
       "      <td>27.820714</td>\n",
       "      <td>130.157828</td>\n",
       "      <td>17.862102</td>\n",
       "      <td>5.169205</td>\n",
       "      <td>12.990682</td>\n",
       "      <td>0.592045</td>\n",
       "      <td>gujarat titans</td>\n",
       "    </tr>\n",
       "  </tbody>\n",
       "</table>\n",
       "</div>"
      ],
      "text/plain": [
       "                     Unnamed: 0            ID  Avg_Weighted_Score  \\\n",
       "team                                                                \n",
       "chennai super kings       103.5  7.962737e+05           20.532736   \n",
       "deccan chargers           245.0  4.390420e+05           18.520011   \n",
       "delhi capitals            394.5  8.370276e+05           19.732042   \n",
       "gujarat lions             521.5  1.028401e+06           19.732017   \n",
       "gujarat titans            544.5  1.305097e+06           17.664735   \n",
       "\n",
       "                     batting_average  batting_strike_rate  bowling_average  \\\n",
       "team                                                                         \n",
       "chennai super kings        27.458362           126.841765        19.359043   \n",
       "deccan chargers            22.674650           117.453135        24.555309   \n",
       "delhi capitals             25.216850           125.564505        20.626859   \n",
       "gujarat lions              24.719435           126.161708        28.281758   \n",
       "gujarat titans             27.820714           130.157828        17.862102   \n",
       "\n",
       "                     bowling_economy_rate  bowling_strike_rate  win_ratio  \\\n",
       "team                                                                        \n",
       "chennai super kings              6.005997            14.749406   0.554156   \n",
       "deccan chargers                  6.581430            17.636752   0.426400   \n",
       "delhi capitals                   6.414959            14.894383   0.485767   \n",
       "gujarat lions                    6.176364            20.412970   0.485667   \n",
       "gujarat titans                   5.169205            12.990682   0.592045   \n",
       "\n",
       "                               team_name  \n",
       "team                                      \n",
       "chennai super kings  chennai super kings  \n",
       "deccan chargers          deccan chargers  \n",
       "delhi capitals            delhi capitals  \n",
       "gujarat lions              gujarat lions  \n",
       "gujarat titans            gujarat titans  "
      ]
     },
     "execution_count": 50,
     "metadata": {},
     "output_type": "execute_result"
    }
   ],
   "source": [
    "grouped_df.head()"
   ]
  },
  {
   "cell_type": "code",
   "execution_count": 51,
   "metadata": {},
   "outputs": [],
   "source": [
    "grouped_df.to_csv(\"team_weighted_averages.csv\", index=False)"
   ]
  },
  {
   "cell_type": "markdown",
   "metadata": {},
   "source": []
  },
  {
   "cell_type": "code",
   "execution_count": 52,
   "metadata": {},
   "outputs": [],
   "source": [
    "team_1 = 'rajasthan royals'"
   ]
  },
  {
   "cell_type": "code",
   "execution_count": 53,
   "metadata": {},
   "outputs": [
    {
     "data": {
      "text/plain": [
       "18.566381865398462"
      ]
     },
     "execution_count": 53,
     "metadata": {},
     "output_type": "execute_result"
    }
   ],
   "source": [
    "grouped_df.loc[team_1]['Avg_Weighted_Score']"
   ]
  },
  {
   "cell_type": "code",
   "execution_count": 54,
   "metadata": {},
   "outputs": [
    {
     "data": {
      "text/plain": [
       "18.566381865398462"
      ]
     },
     "execution_count": 54,
     "metadata": {},
     "output_type": "execute_result"
    }
   ],
   "source": [
    "grouped_df.at[team_1, 'Avg_Weighted_Score']"
   ]
  },
  {
   "cell_type": "code",
   "execution_count": 57,
   "metadata": {},
   "outputs": [
    {
     "data": {
      "text/plain": [
       "11    18.566382\n",
       "Name: Avg_Weighted_Score, dtype: float64"
      ]
     },
     "execution_count": 57,
     "metadata": {},
     "output_type": "execute_result"
    }
   ],
   "source": [
    "# Write some code to get the other parameters needed for the model\n",
    "df = pd.read_csv(\"team_weighted_averages.csv\")\n",
    "\n",
    "team_1_score = df.loc[df['team_name'] == team_1, 'Avg_Weighted_Score']\n",
    "team_1_score"
   ]
  },
  {
   "cell_type": "code",
   "execution_count": 46,
   "metadata": {},
   "outputs": [
    {
     "data": {
      "text/html": [
       "<div>\n",
       "<style scoped>\n",
       "    .dataframe tbody tr th:only-of-type {\n",
       "        vertical-align: middle;\n",
       "    }\n",
       "\n",
       "    .dataframe tbody tr th {\n",
       "        vertical-align: top;\n",
       "    }\n",
       "\n",
       "    .dataframe thead th {\n",
       "        text-align: right;\n",
       "    }\n",
       "</style>\n",
       "<table border=\"1\" class=\"dataframe\">\n",
       "  <thead>\n",
       "    <tr style=\"text-align: right;\">\n",
       "      <th></th>\n",
       "      <th>Unnamed: 0</th>\n",
       "      <th>ID</th>\n",
       "      <th>Avg_Weighted_Score</th>\n",
       "      <th>batting_average</th>\n",
       "      <th>batting_strike_rate</th>\n",
       "      <th>bowling_average</th>\n",
       "      <th>bowling_economy_rate</th>\n",
       "      <th>bowling_strike_rate</th>\n",
       "      <th>win_ratio</th>\n",
       "    </tr>\n",
       "  </thead>\n",
       "  <tbody>\n",
       "    <tr>\n",
       "      <th>0</th>\n",
       "      <td>103.5</td>\n",
       "      <td>7.962737e+05</td>\n",
       "      <td>20.532736</td>\n",
       "      <td>27.458362</td>\n",
       "      <td>126.841765</td>\n",
       "      <td>19.359043</td>\n",
       "      <td>6.005997</td>\n",
       "      <td>14.749406</td>\n",
       "      <td>0.554156</td>\n",
       "    </tr>\n",
       "    <tr>\n",
       "      <th>1</th>\n",
       "      <td>245.0</td>\n",
       "      <td>4.390420e+05</td>\n",
       "      <td>18.520011</td>\n",
       "      <td>22.674650</td>\n",
       "      <td>117.453135</td>\n",
       "      <td>24.555309</td>\n",
       "      <td>6.581430</td>\n",
       "      <td>17.636752</td>\n",
       "      <td>0.426400</td>\n",
       "    </tr>\n",
       "    <tr>\n",
       "      <th>2</th>\n",
       "      <td>394.5</td>\n",
       "      <td>8.370276e+05</td>\n",
       "      <td>19.732042</td>\n",
       "      <td>25.216850</td>\n",
       "      <td>125.564505</td>\n",
       "      <td>20.626859</td>\n",
       "      <td>6.414959</td>\n",
       "      <td>14.894383</td>\n",
       "      <td>0.485767</td>\n",
       "    </tr>\n",
       "    <tr>\n",
       "      <th>3</th>\n",
       "      <td>521.5</td>\n",
       "      <td>1.028401e+06</td>\n",
       "      <td>19.732017</td>\n",
       "      <td>24.719435</td>\n",
       "      <td>126.161708</td>\n",
       "      <td>28.281758</td>\n",
       "      <td>6.176364</td>\n",
       "      <td>20.412970</td>\n",
       "      <td>0.485667</td>\n",
       "    </tr>\n",
       "    <tr>\n",
       "      <th>4</th>\n",
       "      <td>544.5</td>\n",
       "      <td>1.305097e+06</td>\n",
       "      <td>17.664735</td>\n",
       "      <td>27.820714</td>\n",
       "      <td>130.157828</td>\n",
       "      <td>17.862102</td>\n",
       "      <td>5.169205</td>\n",
       "      <td>12.990682</td>\n",
       "      <td>0.592045</td>\n",
       "    </tr>\n",
       "  </tbody>\n",
       "</table>\n",
       "</div>"
      ],
      "text/plain": [
       "   Unnamed: 0            ID  Avg_Weighted_Score  batting_average  \\\n",
       "0       103.5  7.962737e+05           20.532736        27.458362   \n",
       "1       245.0  4.390420e+05           18.520011        22.674650   \n",
       "2       394.5  8.370276e+05           19.732042        25.216850   \n",
       "3       521.5  1.028401e+06           19.732017        24.719435   \n",
       "4       544.5  1.305097e+06           17.664735        27.820714   \n",
       "\n",
       "   batting_strike_rate  bowling_average  bowling_economy_rate  \\\n",
       "0           126.841765        19.359043              6.005997   \n",
       "1           117.453135        24.555309              6.581430   \n",
       "2           125.564505        20.626859              6.414959   \n",
       "3           126.161708        28.281758              6.176364   \n",
       "4           130.157828        17.862102              5.169205   \n",
       "\n",
       "   bowling_strike_rate  win_ratio  \n",
       "0            14.749406   0.554156  \n",
       "1            17.636752   0.426400  \n",
       "2            14.894383   0.485767  \n",
       "3            20.412970   0.485667  \n",
       "4            12.990682   0.592045  "
      ]
     },
     "execution_count": 46,
     "metadata": {},
     "output_type": "execute_result"
    }
   ],
   "source": [
    "df.head()"
   ]
  },
  {
   "cell_type": "code",
   "execution_count": null,
   "metadata": {},
   "outputs": [],
   "source": []
  }
 ],
 "metadata": {
  "kernelspec": {
   "display_name": "ipl_prediction_model",
   "language": "python",
   "name": "python3"
  },
  "language_info": {
   "codemirror_mode": {
    "name": "ipython",
    "version": 3
   },
   "file_extension": ".py",
   "mimetype": "text/x-python",
   "name": "python",
   "nbconvert_exporter": "python",
   "pygments_lexer": "ipython3",
   "version": "3.10.6"
  },
  "orig_nbformat": 4
 },
 "nbformat": 4,
 "nbformat_minor": 2
}
